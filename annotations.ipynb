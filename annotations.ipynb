{
 "cells": [
  {
   "attachments": {},
   "cell_type": "markdown",
   "metadata": {},
   "source": [
    "## single id meshes"
   ]
  },
  {
   "cell_type": "code",
   "execution_count": 20,
   "metadata": {},
   "outputs": [],
   "source": [
    "import os\n",
    "import struct\n",
    "import csv\n",
    "import numpy as np\n",
    "import json\n",
    "import shutil\n",
    "#https://github.com/google/neuroglancer/issues/227\n",
    "#os.system(\"rm -rf jrc_hela-2/annotations\")\n",
    "#os.system(\"mkdir -p jrc_hela-2/annotations/spatial0\")\n",
    "#os.system(\"mkdir jrc_hela-2/annotations/relationships\")\n",
    "\n",
    "coordinates = np.random.rand(1000,6)*10000\n",
    "\n",
    "os.makedirs(\"./spatial0\",exist_ok=True)\n",
    "for id,coordinate in enumerate(coordinates):\n",
    "\twith open(f\"./spatial0/{id}\",'wb') as outfile:\n",
    "\t\tbuf = struct.pack('<6f',*coordinate)#x,y,z,10,10,10)\n",
    "\t\toutfile.write(buf)\n",
    "\n",
    "\n",
    "info = {\"@type\": \"neuroglancer_annotations_v1\",\n",
    "\"dimensions\": {\n",
    "\t\"x\" : [1, \"nm\"],\n",
    "\t\"y\" : [1, \"nm\"],\n",
    "\t\"z\" : [1, \"nm\"]\n",
    "\t},\n",
    "\"by_id\" : {\n",
    "      \"key\" : \"spatial0\"\n",
    "},\n",
    "\"lower_bound\": [0,0,0],\n",
    "\"upper_bound\": [48000,6400,33368],\n",
    "\"annotation_type\": \"LINE\",\n",
    "\"properties\": [],\n",
    "\"relationships\" : [],\n",
    "\"spatial\" : [\n",
    "      {\n",
    "         \"chunk_size\" : [ 48000, 6400, 33368 ],\n",
    "         \"grid_shape\" : [ 1, 1, 1 ],\n",
    "         \"key\" : \"spatial0\",\n",
    "         \"limit\" : 10000\n",
    "      }\n",
    "   ],\n",
    "}\n",
    "with open('./info', 'w') as info_file:\n",
    "    json.dump(info, info_file)"
   ]
  },
  {
   "cell_type": "code",
   "execution_count": 9,
   "metadata": {},
   "outputs": [
    {
     "data": {
      "text/plain": [
       "(6539.669921875,\n",
       " 2157.87548828125,\n",
       " 2316.690673828125,\n",
       " 2227.007568359375,\n",
       " 2036.5302734375,\n",
       " 7563.19677734375)"
      ]
     },
     "execution_count": 9,
     "metadata": {},
     "output_type": "execute_result"
    }
   ],
   "source": [
    "buf = struct.pack('<6f',*coordinate)\n",
    "struct.unpack(\"<ffffff\",buf)"
   ]
  },
  {
   "attachments": {},
   "cell_type": "markdown",
   "metadata": {},
   "source": [
    "## Related object id index\n"
   ]
  },
  {
   "cell_type": "code",
   "execution_count": 15,
   "metadata": {},
   "outputs": [],
   "source": [
    "import os\n",
    "import struct\n",
    "import csv\n",
    "import numpy as np\n",
    "import json\n",
    "\n",
    "coordinates = np.random.rand(1000,6)*10000\n",
    "\n",
    "os.makedirs(\"./spatial0\",exist_ok=True)\n",
    "with open(f\"./spatial0/0_0_0\",'wb') as outfile:\n",
    "\ttotal_count=len(coordinates) # coordinates is a list of tuples (x,y,z) \n",
    "\tbuf = struct.pack('<Q',total_count)\n",
    "\tfor coordinate in coordinates:\n",
    "\t\tline_buf = struct.pack('<6f',*coordinate)#x,y,z,10,10,10)\n",
    "\t\tbuf+=line_buf\n",
    "\t# write the ids at the end of the buffer as increasing integers \n",
    "\tid_buf = struct.pack(f'<{len(coordinates)}Q', *range(len(coordinates)))\n",
    "\t#id_buf = struct.pack('<%sQ' % len(coordinates), 3,1 )#s*range(len(coordinates)))\n",
    "\tbuf+=id_buf\n",
    "\toutfile.write(buf)\n",
    "\n",
    "\n",
    "info = {\"@type\": \"neuroglancer_annotations_v1\",\n",
    "\"dimensions\": {\n",
    "\t\"x\" : [1, \"nm\"],\n",
    "\t\"y\" : [1, \"nm\"],\n",
    "\t\"z\" : [1, \"nm\"]\n",
    "\t},\n",
    "\"by_id\" : {\n",
    "      \"key\" : \"by_id\"\n",
    "   },\n",
    "\"lower_bound\": [0,0,0],\n",
    "\"upper_bound\": [48000,6400,33368],\n",
    "\"annotation_type\": \"LINE\",\n",
    "\"properties\": [],\n",
    "\"relationships\": [],\n",
    " \"spatial\" : [\n",
    "      {\n",
    "         \"chunk_size\" : [ 48000, 6400, 33368 ],\n",
    "         \"grid_shape\" : [ 1, 1, 1 ],\n",
    "         \"key\" : \"spatial0\",\n",
    "         \"limit\" : 1\n",
    "      }\n",
    "   ], \n",
    "}\n",
    "with open('./info', 'w') as info_file:\n",
    "    json.dump(info, info_file)"
   ]
  },
  {
   "cell_type": "code",
   "execution_count": null,
   "metadata": {},
   "outputs": [],
   "source": []
  }
 ],
 "metadata": {
  "kernelspec": {
   "display_name": "convert-tiffs",
   "language": "python",
   "name": "python3"
  },
  "language_info": {
   "codemirror_mode": {
    "name": "ipython",
    "version": 3
   },
   "file_extension": ".py",
   "mimetype": "text/x-python",
   "name": "python",
   "nbconvert_exporter": "python",
   "pygments_lexer": "ipython3",
   "version": "3.9.13"
  },
  "orig_nbformat": 4,
  "vscode": {
   "interpreter": {
    "hash": "932cf0ac0a6ea60a4905ed68b571d61d89192a5c3a2b1264d9dbba2b00cbe173"
   }
  }
 },
 "nbformat": 4,
 "nbformat_minor": 2
}
