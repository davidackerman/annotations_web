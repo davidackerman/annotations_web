{
 "cells": [
  {
   "attachments": {},
   "cell_type": "markdown",
   "metadata": {},
   "source": [
    "## single id meshes"
   ]
  },
  {
   "cell_type": "code",
   "execution_count": 20,
   "metadata": {},
   "outputs": [],
   "source": [
    "import os\n",
    "import struct\n",
    "import csv\n",
    "import numpy as np\n",
    "import json\n",
    "import shutil\n",
    "#https://github.com/google/neuroglancer/issues/227\n",
    "#os.system(\"rm -rf jrc_hela-2/annotations\")\n",
    "#os.system(\"mkdir -p jrc_hela-2/annotations/spatial0\")\n",
    "#os.system(\"mkdir jrc_hela-2/annotations/relationships\")\n",
    "\n",
    "coordinates = np.random.rand(1000,6)*10000\n",
    "\n",
    "os.makedirs(\"./spatial0\",exist_ok=True)\n",
    "for id,coordinate in enumerate(coordinates):\n",
    "\twith open(f\"./spatial0/{id}\",'wb') as outfile:\n",
    "\t\tbuf = struct.pack('<6f',*coordinate)#x,y,z,10,10,10)\n",
    "\t\toutfile.write(buf)\n",
    "\n",
    "\n",
    "info = {\"@type\": \"neuroglancer_annotations_v1\",\n",
    "\"dimensions\": {\n",
    "\t\"x\" : [1, \"nm\"],\n",
    "\t\"y\" : [1, \"nm\"],\n",
    "\t\"z\" : [1, \"nm\"]\n",
    "\t},\n",
    "\"by_id\" : {\n",
    "      \"key\" : \"spatial0\"\n",
    "},\n",
    "\"lower_bound\": [0,0,0],\n",
    "\"upper_bound\": [48000,6400,33368],\n",
    "\"annotation_type\": \"LINE\",\n",
    "\"properties\": [],\n",
    "\"relationships\" : [],\n",
    "\"spatial\" : [\n",
    "      {\n",
    "         \"chunk_size\" : [ 48000, 6400, 33368 ],\n",
    "         \"grid_shape\" : [ 1, 1, 1 ],\n",
    "         \"key\" : \"spatial0\",\n",
    "         \"limit\" : 10000\n",
    "      }\n",
    "   ],\n",
    "}\n",
    "with open('./info', 'w') as info_file:\n",
    "    json.dump(info, info_file)"
   ]
  },
  {
   "cell_type": "code",
   "execution_count": 9,
   "metadata": {},
   "outputs": [
    {
     "data": {
      "text/plain": [
       "(6539.669921875,\n",
       " 2157.87548828125,\n",
       " 2316.690673828125,\n",
       " 2227.007568359375,\n",
       " 2036.5302734375,\n",
       " 7563.19677734375)"
      ]
     },
     "execution_count": 9,
     "metadata": {},
     "output_type": "execute_result"
    }
   ],
   "source": [
    "buf = struct.pack('<6f',*coordinate)\n",
    "struct.unpack(\"<ffffff\",buf)"
   ]
  },
  {
   "attachments": {},
   "cell_type": "markdown",
   "metadata": {},
   "source": [
    "## Related object id index\n"
   ]
  },
  {
   "cell_type": "code",
   "execution_count": 63,
   "metadata": {},
   "outputs": [],
   "source": [
    "import os\n",
    "import struct\n",
    "import numpy as np\n",
    "import json\n",
    "\n",
    "coordinates = np.random.rand(1000,6)*10000\n",
    "\n",
    "os.makedirs(\"./spatial0\",exist_ok=True)\n",
    "with open(f\"./spatial0/0_0_0\",'wb') as outfile:\n",
    "\ttotal_count=len(coordinates) # coordinates is a list of tuples (x,y,z) \n",
    "\tbuf = struct.pack('<Q',total_count)\n",
    "\tfor coordinate in coordinates:\n",
    "\t\tline_buf = struct.pack('<6f',*coordinate)#x,y,z,10,10,10)\n",
    "\t\tbuf+=line_buf\n",
    "\t# write the ids at the end of the buffer as increasing integers \n",
    "\tid_buf = struct.pack(f'<{total_count}Q', *range(len(coordinates)))\n",
    "\t#id_buf = struct.pack('<%sQ' % len(coordinates), 3,1 )#s*range(len(coordinates)))\n",
    "\tbuf+=id_buf\n",
    "\toutfile.write(buf)\n",
    "\n",
    "\n",
    "info = {\"@type\": \"neuroglancer_annotations_v1\",\n",
    "\"dimensions\": {\n",
    "\t\"x\" : [1, \"nm\"],\n",
    "\t\"y\" : [1, \"nm\"],\n",
    "\t\"z\" : [1, \"nm\"]\n",
    "\t},\n",
    "\"by_id\" : {\n",
    "      \"key\" : \"by_id\"\n",
    "   },\n",
    "\"lower_bound\": [0,0,0],\n",
    "\"upper_bound\": [48000,6400,33368],\n",
    "\"annotation_type\": \"LINE\",\n",
    "\"properties\": [],\n",
    "\"relationships\": [],\n",
    " \"spatial\" : [\n",
    "      {\n",
    "         \"chunk_size\" : [ 48000, 6400, 33368 ],\n",
    "         \"grid_shape\" : [ 1, 1, 1 ],\n",
    "         \"key\" : \"spatial0\",\n",
    "         \"limit\" : 1\n",
    "      }\n",
    "   ], \n",
    "}\n",
    "with open('./info', 'w') as info_file:\n",
    "\tjson.dump(info, info_file)"
   ]
  },
  {
   "attachments": {},
   "cell_type": "markdown",
   "metadata": {},
   "source": [
    "## url decoding"
   ]
  },
  {
   "cell_type": "code",
   "execution_count": 6,
   "metadata": {},
   "outputs": [],
   "source": [
    "import urllib\n",
    "import json\n",
    "neuroglancer_url = 'http://renderer.int.janelia.org:8080/ng/#!%7B%22dimensions%22:%7B%22x%22:%5B8e-9%2C%22m%22%5D%2C%22y%22:%5B8e-9%2C%22m%22%5D%2C%22z%22:%5B8e-9%2C%22m%22%5D%7D%2C%22position%22:%5B16015.5576171875%2C3120.856201171875%2C5949.5%5D%2C%22crossSectionScale%22:32.136742444753125%2C%22projectionOrientation%22:%5B0.014749682508409023%2C-0.9973500370979309%2C0.05349467322230339%2C-0.04704951494932175%5D%2C%22projectionScale%22:27097.796901055877%2C%22layers%22:%5B%7B%22type%22:%22image%22%2C%22source%22:%22n5://http://renderer.int.janelia.org:8080/n5_sources/stern/jrc_22ak351-leaf-3m.n5/em/fibsem-uint8%22%2C%22tab%22:%22source%22%2C%22name%22:%22fibsem-uint8%22%7D%2C%7B%22type%22:%22annotation%22%2C%22source%22:%7B%22url%22:%22local://annotations%22%2C%22transform%22:%7B%22outputDimensions%22:%7B%22x%22:%5B8e-9%2C%22m%22%5D%2C%22y%22:%5B8e-9%2C%22m%22%5D%2C%22z%22:%5B8e-9%2C%22m%22%5D%7D%7D%7D%2C%22tool%22:%22annotateLine%22%2C%22tab%22:%22annotations%22%2C%22annotations%22:%5B%7B%22pointA%22:%5B18008.03515625%2C3377.9501953125%2C5949.50048828125%5D%2C%22pointB%22:%5B15404.9599609375%2C3217.266357421875%2C5949.50048828125%5D%2C%22type%22:%22line%22%2C%22id%22:%22a7e8747c3eedd56f3f93bbedd4277209f77e0d0d%22%7D%2C%7B%22pointA%22:%5B18136.58203125%2C1256.9251708984375%2C5949.50048828125%5D%2C%22pointB%22:%5B21928.71875%2C4824.103515625%2C5949.50048828125%5D%2C%22type%22:%22line%22%2C%22id%22:%222488859ee79cb5b86e9db709c9e8095efa58e18e%22%7D%5D%2C%22shader%22:%22#uicontrol%20float%20lineWidth%20slider%28min=1%2C%20max=50%2C%20step=1%2C%20default=10%29%5Cn#uicontrol%20vec3%20color%20color%28default=%5C%22white%5C%22%29%5Cn%5Cnvoid%20main%28%29%20%7B%5Cn%20%20setLineWidth%28lineWidth%29%3B%5Cn%20%20setColor%28color%29%3B%5Cn%7D%5Cn%5Cn%22%2C%22shaderControls%22:%7B%22color%22:%22#ff0000%22%7D%2C%22name%22:%22annotations%22%7D%5D%2C%22showSlices%22:false%2C%22selectedLayer%22:%7B%22visible%22:true%2C%22layer%22:%22annotations%22%7D%2C%22layout%22:%224panel%22%2C%22selection%22:%7B%22layers%22:%7B%22annotations%22:%7B%22annotationId%22:%222488859ee79cb5b86e9db709c9e8095efa58e18e%22%2C%22annotationSource%22:0%2C%22annotationSubsource%22:%22default%22%7D%7D%7D%7D'\n",
    "\n"
   ]
  },
  {
   "cell_type": "code",
   "execution_count": 2,
   "metadata": {},
   "outputs": [
    {
     "name": "stdout",
     "output_type": "stream",
     "text": [
      "http://renderer.int.janelia.org:8080/ng/#!%7B%22dimensions%22%3A%20%7B%22x%22%3A%20%5B8e-09%2C%20%22m%22%5D%2C%20%22y%22%3A%20%5B8e-09%2C%20%22m%22%5D%2C%20%22z%22%3A%20%5B8e-09%2C%20%22m%22%5D%7D%2C%20%22position%22%3A%20%5B16015.5576171875%2C%203120.856201171875%2C%205949.5%5D%2C%20%22crossSectionScale%22%3A%2032.136742444753125%2C%20%22projectionOrientation%22%3A%20%5B0.014749682508409023%2C%20-0.9973500370979309%2C%200.05349467322230339%2C%20-0.04704951494932175%5D%2C%20%22projectionScale%22%3A%2027097.796901055877%2C%20%22layers%22%3A%20%5B%7B%22type%22%3A%20%22image%22%2C%20%22source%22%3A%20%22n5%3A//http%3A//renderer.int.janelia.org%3A8080/n5_sources/stern/jrc_22ak351-leaf-3m.n5/em/fibsem-uint8%22%2C%20%22tab%22%3A%20%22source%22%2C%20%22name%22%3A%20%22fibsem-uint8%22%7D%2C%20%7B%22type%22%3A%20%22annotation%22%2C%20%22source%22%3A%20%7B%22url%22%3A%20%22local%3A//annotations%22%2C%20%22transform%22%3A%20%7B%22outputDimensions%22%3A%20%7B%22x%22%3A%20%5B8e-09%2C%20%22m%22%5D%2C%20%22y%22%3A%20%5B8e-09%2C%20%22m%22%5D%2C%20%22z%22%3A%20%5B8e-09%2C%20%22m%22%5D%7D%7D%7D%2C%20%22tool%22%3A%20%22annotateLine%22%2C%20%22tab%22%3A%20%22annotations%22%2C%20%22annotations%22%3A%20%5B%7B%22pointA%22%3A%20%5B18008.03515625%2C%203377.9501953125%2C%205949.50048828125%5D%2C%20%22pointB%22%3A%20%5B15404.9599609375%2C%203217.266357421875%2C%205949.50048828125%5D%2C%20%22type%22%3A%20%22line%22%2C%20%22id%22%3A%20%22a7e8747c3eedd56f3f93bbedd4277209f77e0d0d%22%7D%2C%20%7B%22pointA%22%3A%20%5B18136.58203125%2C%201256.9251708984375%2C%205949.50048828125%5D%2C%20%22pointB%22%3A%20%5B21928.71875%2C%204824.103515625%2C%205949.50048828125%5D%2C%20%22type%22%3A%20%22line%22%2C%20%22id%22%3A%20%222488859ee79cb5b86e9db709c9e8095efa58e18e%22%7D%5D%2C%20%22shader%22%3A%20%22%23uicontrol%20float%20lineWidth%20slider%28min%3D1%2C%20max%3D50%2C%20step%3D1%2C%20default%3D10%29%5Cn%23uicontrol%20vec3%20color%20color%28default%3D%5C%22white%5C%22%29%5Cn%5Cnvoid%20main%28%29%20%7B%5Cn%20%20setLineWidth%28lineWidth%29%3B%5Cn%20%20setColor%28color%29%3B%5Cn%7D%5Cn%5Cn%22%2C%20%22shaderControls%22%3A%20%7B%22color%22%3A%20%22%23ff0000%22%7D%2C%20%22name%22%3A%20%22annotations%22%7D%5D%2C%20%22showSlices%22%3A%20false%2C%20%22selectedLayer%22%3A%20%7B%22visible%22%3A%20true%2C%20%22layer%22%3A%20%22annotations%22%7D%2C%20%22layout%22%3A%20%224panel%22%2C%20%22selection%22%3A%20%7B%22layers%22%3A%20%7B%22annotations%22%3A%20%7B%22annotationId%22%3A%20%222488859ee79cb5b86e9db709c9e8095efa58e18e%22%2C%20%22annotationSource%22%3A%200%2C%20%22annotationSubsource%22%3A%20%22default%22%7D%7D%7D%7D\n"
     ]
    }
   ],
   "source": [
    "url_base, pseudo_json = neuroglancer_url.split('#!')\n",
    "pseudo_json = urllib.parse.unquote(pseudo_json)\n",
    "data = json.loads(pseudo_json)\n",
    "print(url_base + \"#!\" + urllib.parse.quote(json.dumps(data)))\n"
   ]
  },
  {
   "cell_type": "code",
   "execution_count": 4,
   "metadata": {},
   "outputs": [
    {
     "data": {
      "text/plain": [
       "dict"
      ]
     },
     "execution_count": 4,
     "metadata": {},
     "output_type": "execute_result"
    }
   ],
   "source": []
  },
  {
   "cell_type": "code",
   "execution_count": 17,
   "metadata": {},
   "outputs": [
    {
     "name": "stdout",
     "output_type": "stream",
     "text": [
      "{'dimensions': {'x': [8e-09, 'm'], 'y': [8e-09, 'm'], 'z': [8e-09, 'm']}, 'position': [16015.5576171875, 3120.856201171875, 5949.5], 'crossSectionScale': 32.136742444753125, 'projectionOrientation': [0.014749682508409023, -0.9973500370979309, 0.05349467322230339, -0.04704951494932175], 'projectionScale': 27097.796901055877, 'layers': [{'type': 'image', 'source': 'n5://http://renderer.int.janelia.org:8080/n5_sources/stern/jrc_22ak351-leaf-3m.n5/em/fibsem-uint8', 'tab': 'source', 'name': 'fibsem-uint8'}, {'type': 'annotation', 'source': {'url': 'local://annotations', 'transform': {'outputDimensions': {'x': [8e-09, 'm'], 'y': [8e-09, 'm'], 'z': [8e-09, 'm']}}}, 'tool': 'annotateLine', 'tab': 'annotations', 'annotations': [], 'shader': '#uicontrol float lineWidth slider(min=1, max=50, step=1, default=10)\\n#uicontrol vec3 color color(default=\"white\")\\n\\nvoid main() {\\n  setLineWidth(lineWidth);\\n  setColor(color);\\n}\\n\\n', 'shaderControls': {'color': '#ff0000'}, 'name': 'annotations'}, {'type': 'annotation', 'source': 'precomputed://https://cellmap-vm1.int.janelia.org/dm11/ackermand/leaf-gall-annotations/20230407_100510', 'tab': 'source', 'annotationColor': '#8b8b23', 'shader': '#uicontrol float lineWidth slider(min=1, max=50, step=1, default=10)\\n#uicontrol vec3 color color(default=\"white\")\\n\\nvoid main() {\\n  setLineWidth(lineWidth);\\n  setColor(color);\\n}\\n\\n', 'shaderControls': {'color': '#ff0000'}, 'name': 'saved_annotations'}], 'showSlices': False, 'selectedLayer': {'visible': True, 'layer': 'annotations'}, 'layout': '4panel', 'selection': {'layers': {'annotations': {'annotationId': '2488859ee79cb5b86e9db709c9e8095efa58e18e', 'annotationSource': 0, 'annotationSubsource': 'default'}}}}\n",
      "http://renderer.int.janelia.org:8080/ng/#!%7B%22dimensions%22%3A%20%7B%22x%22%3A%20%5B8e-09%2C%20%22m%22%5D%2C%20%22y%22%3A%20%5B8e-09%2C%20%22m%22%5D%2C%20%22z%22%3A%20%5B8e-09%2C%20%22m%22%5D%7D%2C%20%22position%22%3A%20%5B16015.5576171875%2C%203120.856201171875%2C%205949.5%5D%2C%20%22crossSectionScale%22%3A%2032.136742444753125%2C%20%22projectionOrientation%22%3A%20%5B0.014749682508409023%2C%20-0.9973500370979309%2C%200.05349467322230339%2C%20-0.04704951494932175%5D%2C%20%22projectionScale%22%3A%2027097.796901055877%2C%20%22layers%22%3A%20%5B%7B%22type%22%3A%20%22image%22%2C%20%22source%22%3A%20%22n5%3A//http%3A//renderer.int.janelia.org%3A8080/n5_sources/stern/jrc_22ak351-leaf-3m.n5/em/fibsem-uint8%22%2C%20%22tab%22%3A%20%22source%22%2C%20%22name%22%3A%20%22fibsem-uint8%22%7D%2C%20%7B%22type%22%3A%20%22annotation%22%2C%20%22source%22%3A%20%7B%22url%22%3A%20%22local%3A//annotations%22%2C%20%22transform%22%3A%20%7B%22outputDimensions%22%3A%20%7B%22x%22%3A%20%5B8e-09%2C%20%22m%22%5D%2C%20%22y%22%3A%20%5B8e-09%2C%20%22m%22%5D%2C%20%22z%22%3A%20%5B8e-09%2C%20%22m%22%5D%7D%7D%7D%2C%20%22tool%22%3A%20%22annotateLine%22%2C%20%22tab%22%3A%20%22annotations%22%2C%20%22annotations%22%3A%20%5B%5D%2C%20%22shader%22%3A%20%22%23uicontrol%20float%20lineWidth%20slider%28min%3D1%2C%20max%3D50%2C%20step%3D1%2C%20default%3D10%29%5Cn%23uicontrol%20vec3%20color%20color%28default%3D%5C%22white%5C%22%29%5Cn%5Cnvoid%20main%28%29%20%7B%5Cn%20%20setLineWidth%28lineWidth%29%3B%5Cn%20%20setColor%28color%29%3B%5Cn%7D%5Cn%5Cn%22%2C%20%22shaderControls%22%3A%20%7B%22color%22%3A%20%22%23ff0000%22%7D%2C%20%22name%22%3A%20%22annotations%22%7D%2C%20%7B%22type%22%3A%20%22annotation%22%2C%20%22source%22%3A%20%22precomputed%3A//https%3A//cellmap-vm1.int.janelia.org/dm11/ackermand/leaf-gall-annotations/20230407_100510%22%2C%20%22tab%22%3A%20%22source%22%2C%20%22annotationColor%22%3A%20%22%238b8b23%22%2C%20%22shader%22%3A%20%22%23uicontrol%20float%20lineWidth%20slider%28min%3D1%2C%20max%3D50%2C%20step%3D1%2C%20default%3D10%29%5Cn%23uicontrol%20vec3%20color%20color%28default%3D%5C%22white%5C%22%29%5Cn%5Cnvoid%20main%28%29%20%7B%5Cn%20%20setLineWidth%28lineWidth%29%3B%5Cn%20%20setColor%28color%29%3B%5Cn%7D%5Cn%5Cn%22%2C%20%22shaderControls%22%3A%20%7B%22color%22%3A%20%22%23ff0000%22%7D%2C%20%22name%22%3A%20%22saved_annotations%22%7D%5D%2C%20%22showSlices%22%3A%20false%2C%20%22selectedLayer%22%3A%20%7B%22visible%22%3A%20true%2C%20%22layer%22%3A%20%22annotations%22%7D%2C%20%22layout%22%3A%20%224panel%22%2C%20%22selection%22%3A%20%7B%22layers%22%3A%20%7B%22annotations%22%3A%20%7B%22annotationId%22%3A%20%222488859ee79cb5b86e9db709c9e8095efa58e18e%22%2C%20%22annotationSource%22%3A%200%2C%20%22annotationSubsource%22%3A%20%22default%22%7D%7D%7D%7D\n"
     ]
    }
   ],
   "source": [
    "import struct\n",
    "import numpy as np\n",
    "import os\n",
    "import struct\n",
    "import numpy as np\n",
    "import json\n",
    "from time import sleep\n",
    "from datetime import datetime\n",
    "import urllib\n",
    "\n",
    "def get_annotations(info_dict):\n",
    "\tprecomputed_annotations = None\n",
    "\tlocal_annotations = None\n",
    "\tfor layer in info_dict[\"layers\"]:\n",
    "\t\tif layer[\"type\"] == \"annotation\":\n",
    "\n",
    "\t\t\tif \"precomputed\" in layer[\"source\"]:\n",
    "\t\t\t\tprecomputed_annotations = extract_precomputed_annotations(layer)\n",
    "\t\t\telif layer[\"source\"][\"url\"] == \"local://annotations\":\n",
    "\t\t\t\t# then this is the local layer\n",
    "\t\t\t\tlocal_annotations = extract_local_annotations(layer)\n",
    "\t\t\n",
    "\tif precomputed_annotations is not None:\n",
    "\t\tannotations = np.concatenate((precomputed_annotations,local_annotations))\n",
    "\telse:\n",
    "\t\tannotations = local_annotations\n",
    "\treturn annotations\n",
    "\n",
    "def extract_local_annotations(layer):\n",
    "\n",
    "    x_dims = layer['source']['transform']['outputDimensions'][\"x\"]\n",
    "    y_dims = layer['source']['transform']['outputDimensions'][\"y\"]\n",
    "    z_dims = layer['source']['transform']['outputDimensions'][\"z\"]\n",
    "\n",
    "    annotation_data = np.zeros((len(layer[\"annotations\"]),6))\n",
    "    for idx,current_annotation in enumerate(layer['annotations']):\n",
    "        # assume that it is in url as m, so divide by 1e-9 to get it in nm\n",
    "        annotation_data[idx,:]=[\n",
    "                current_annotation[\"pointA\"][0] * x_dims[0] * 1e9,\n",
    "                current_annotation[\"pointA\"][1] * y_dims[0] * 1e9,\n",
    "                current_annotation[\"pointA\"][2] * z_dims[0] * 1e9,\n",
    "                current_annotation[\"pointB\"][0] * x_dims[0] * 1e9,\n",
    "                current_annotation[\"pointB\"][1] * y_dims[0] * 1e9,\n",
    "                current_annotation[\"pointB\"][2] * z_dims[0] * 1e9,\n",
    "        ]\n",
    "    return annotation_data\n",
    "\n",
    "def extract_precomputed_annotations(layer):\n",
    "    base_directory = \"/groups/cellmap/cellmap/\"\n",
    "    annotation_index = base_directory + layer[\"source\"].split(\"dm11/\")[1] + \"/spatial0/0_0_0\"\n",
    "    with open(annotation_index, mode='rb') as file:\n",
    "        annotation_index_content = file.read()\n",
    "    \n",
    "    # need to specify which bytes to read\n",
    "    num_annotations = struct.unpack(\"<Q\",annotation_index_content[:8])[0]\n",
    "    annotation_data = struct.unpack(f\"<Q{6*num_annotations}f\",annotation_index_content[:8+6*num_annotations*4])\n",
    "    annotation_data = np.reshape(np.array(annotation_data[1:]),(num_annotations,6))\n",
    "    return annotation_data\n",
    "\n",
    "def write_precomputed_annotations(annotations):\n",
    "\toutput_directory = \"/groups/cellmap/cellmap/ackermand/leaf-gall-annotations/\"+ datetime.now().strftime(\"%Y%m%d_%H%M%S\")\n",
    "\twhile os.path.exists(output_directory):\n",
    "\t\tsleep(1)\n",
    "\t\toutput_directory = \"/groups/cellmap/cellmap/ackermand/leaf-gall-annotations/\"+ datetime.now().strftime(\"%Y%m%d_%H%M%S\")\n",
    "\tos.makedirs(f\"{output_directory}/spatial0\")\n",
    "\twith open(f\"{output_directory}/spatial0/0_0_0\",'wb') as outfile:\n",
    "\t\ttotal_count=len(annotations) # coordinates is a list of tuples (x,y,z) \n",
    "\t\tbuf = struct.pack('<Q',total_count)\n",
    "\t\tfor annotation in annotations:\n",
    "\t\t\tline_buf = struct.pack('<6f',*annotation)#x,y,z,10,10,10)\n",
    "\t\t\tbuf+=line_buf\n",
    "\t\t# write the ids at the end of the buffer as increasing integers \n",
    "\t\tid_buf = struct.pack(f'<{total_count}Q', *range(len(annotations)))\n",
    "\t\t#id_buf = struct.pack('<%sQ' % len(coordinates), 3,1 )#s*range(len(coordinates)))\n",
    "\t\tbuf+=id_buf\n",
    "\t\toutfile.write(buf)\n",
    "\n",
    "\tmax_extents = annotations.reshape((-1,3)).max(axis=0)+1\n",
    "\tmax_extents = [int(max_extent) for max_extent in max_extents]\n",
    "\tinfo = {\"@type\": \"neuroglancer_annotations_v1\",\n",
    "\t\"dimensions\": {\n",
    "\t\t\"x\" : [1, \"nm\"],\n",
    "\t\t\"y\" : [1, \"nm\"],\n",
    "\t\t\"z\" : [1, \"nm\"]\n",
    "\t\t},\n",
    "\t\"by_id\" : {\n",
    "\t\t\"key\" : \"by_id\"\n",
    "\t},\n",
    "\t\"lower_bound\": [0,0,0],\n",
    "\t\"upper_bound\": max_extents,\n",
    "\t\"annotation_type\": \"LINE\",\n",
    "\t\"properties\": [],\n",
    "\t\"relationships\": [],\n",
    "\t\"spatial\" : [\n",
    "\t\t{\n",
    "\t\t\t\"chunk_size\" : max_extents,\n",
    "\t\t\t\"grid_shape\" : [ 1, 1, 1 ],\n",
    "\t\t\t\"key\" : \"spatial0\",\n",
    "\t\t\t\"limit\" : 1\n",
    "\t\t}\n",
    "\t], \n",
    "\t}\n",
    "        \n",
    "\twith open(f'{output_directory}/info', 'w') as info_file:\n",
    "\t\tjson.dump(info, info_file)\n",
    "\n",
    "\treturn output_directory.replace(\"/groups/cellmap/cellmap/ackermand/\",\"precomputed://https://cellmap-vm1.int.janelia.org/dm11/ackermand/\")\n",
    "\n",
    "def generate_new_url(info_dict, precomputed_source):\n",
    "\tprecomputed_layer = None\n",
    "\tfor layer in info_dict[\"layers\"]:\n",
    "\t\tif layer[\"type\"] == \"annotation\":\n",
    "\t\t\tif \"precomputed\" in layer[\"source\"]:\n",
    "\t\t\t\tprecomputed_layer = layer\n",
    "\t\t\t\tprecomputed_layer[\"source\"] = precomputed_source\n",
    "\t\t\telif layer[\"source\"][\"url\"] == \"local://annotations\":\n",
    "\t\t\t\t# remove local annotations\n",
    "\t\t\t\tlocal_layer = layer\n",
    "\t\t\t\tlocal_layer[\"annotations\"] = []\n",
    "\n",
    "\tif precomputed_layer is None:\n",
    "\t\tprecomputed_layer = {\n",
    "\t\t\t'type': 'annotation',\n",
    "\t\t\t'source': precomputed_source,\n",
    "\t\t\t'tab': 'source',\n",
    "\t\t\t'annotationColor': '#8b8b23',\n",
    "\t\t\t'shader': local_layer[\"shader\"],\n",
    "\t\t\t'shaderControls': local_layer[\"shaderControls\"],\n",
    "\t\t\t'name': 'saved_annotations'\n",
    "\t\t}\n",
    "\t\tinfo_dict[\"layers\"].append(precomputed_layer)\n",
    "\t\n",
    "\tnew_url = \"http://renderer.int.janelia.org:8080/ng/#!\" + urllib.parse.quote(json.dumps(info_dict))\n",
    "\n",
    "def create_new_url_with_precomputed_annotations(neuroglancer_url):\n",
    "\tinfo_dict = json.loads(urllib.parse.unquote(neuroglancer_url.split(\"/#!\")[1]))\n",
    "\tannotations = get_annotations(info_dict)\n",
    "\tprecomputed_source = write_precomputed_annotations(annotations)\n",
    "\treturn annotations, generate_new_url(info_dict, precomputed_source)\n",
    "\n",
    "\t\n",
    "create_new_url_with_precomputed_annotations(neuroglancer_url)"
   ]
  },
  {
   "cell_type": "code",
   "execution_count": 67,
   "metadata": {},
   "outputs": [],
   "source": [
    "info_dict = json.loads(urllib.parse.unquote(neuroglancer_url.split(\"/#!\")[1]))\n"
   ]
  },
  {
   "cell_type": "code",
   "execution_count": 68,
   "metadata": {},
   "outputs": [
    {
     "data": {
      "text/plain": [
       "{'dimensions': {'x': [8e-09, 'm'], 'y': [8e-09, 'm'], 'z': [8e-09, 'm']},\n",
       " 'position': [16015.5576171875, 3120.856201171875, 5949.5],\n",
       " 'crossSectionScale': 32.136742444753125,\n",
       " 'projectionOrientation': [0.014749682508409023,\n",
       "  -0.9973500370979309,\n",
       "  0.05349467322230339,\n",
       "  -0.04704951494932175],\n",
       " 'projectionScale': 27097.796901055877,\n",
       " 'layers': [{'type': 'image',\n",
       "   'source': 'n5://http://renderer.int.janelia.org:8080/n5_sources/stern/jrc_22ak351-leaf-3m.n5/em/fibsem-uint8',\n",
       "   'tab': 'source',\n",
       "   'name': 'fibsem-uint8'},\n",
       "  {'type': 'annotation',\n",
       "   'source': {'url': 'local://annotations',\n",
       "    'transform': {'outputDimensions': {'x': [8e-09, 'm'],\n",
       "      'y': [8e-09, 'm'],\n",
       "      'z': [8e-09, 'm']}}},\n",
       "   'tool': 'annotateLine',\n",
       "   'tab': 'annotations',\n",
       "   'annotations': [{'pointA': [18008.03515625,\n",
       "      3377.9501953125,\n",
       "      5949.50048828125],\n",
       "     'pointB': [15404.9599609375, 3217.266357421875, 5949.50048828125],\n",
       "     'type': 'line',\n",
       "     'id': 'a7e8747c3eedd56f3f93bbedd4277209f77e0d0d'},\n",
       "    {'pointA': [18136.58203125, 1256.9251708984375, 5949.50048828125],\n",
       "     'pointB': [21928.71875, 4824.103515625, 5949.50048828125],\n",
       "     'type': 'line',\n",
       "     'id': '2488859ee79cb5b86e9db709c9e8095efa58e18e'}],\n",
       "   'shader': '#uicontrol float lineWidth slider(min=1, max=50, step=1, default=10)\\n#uicontrol vec3 color color(default=\"white\")\\n\\nvoid main() {\\n  setLineWidth(lineWidth);\\n  setColor(color);\\n}\\n\\n',\n",
       "   'shaderControls': {'color': '#ff0000'},\n",
       "   'name': 'annotations'}],\n",
       " 'showSlices': False,\n",
       " 'selectedLayer': {'visible': True, 'layer': 'annotations'},\n",
       " 'layout': '4panel',\n",
       " 'selection': {'layers': {'annotations': {'annotationId': '2488859ee79cb5b86e9db709c9e8095efa58e18e',\n",
       "    'annotationSource': 0,\n",
       "    'annotationSubsource': 'default'}}}}"
      ]
     },
     "execution_count": 68,
     "metadata": {},
     "output_type": "execute_result"
    }
   ],
   "source": [
    "info_dict"
   ]
  },
  {
   "cell_type": "code",
   "execution_count": 55,
   "metadata": {},
   "outputs": [
    {
     "data": {
      "text/plain": [
       "'http://renderer.int.janelia.org:8080/ng/#!%7B%22dimensions%22:%20%7B%22x%22:%20%5B8e-9%2C%20%22m%22%5D%2C%20%22y%22:%20%5B8e-9%2C%20%22m%22%5D%2C%20%22z%22:%20%5B8e-9%2C%20%22m%22%5D%7D%2C%20%22position%22:%20%5B16015.5576171875%2C%203120.856201171875%2C%205949.5%5D%2C%20%22crossSectionScale%22:%2032.136742444753125%2C%20%22projectionOrientation%22:%20%5B0.014749682508409023%2C%20-0.9973500370979309%2C%200.05349467322230339%2C%20-0.04704951494932175%5D%2C%20%22projectionScale%22:%2027097.796901055877%2C%20%22layers%22:%20%5B%7B%22type%22:%20%22image%22%2C%20%22source%22:%20%22n5://http://renderer.int.janelia.org:8080/n5_sources/stern/jrc_22ak351-leaf-3m.n5/em/fibsem-uint8%22%2C%20%22tab%22:%20%22source%22%2C%20%22name%22:%20%22fibsem-uint8%22%7D%2C%20%7B%22type%22:%20%22annotation%22%2C%20%22source%22:%20%7B%22url%22:%20%22local://annotations%22%2C%20%22transform%22:%20%7B%22outputDimensions%22:%20%7B%22x%22:%20%5B8e-9%2C%20%22m%22%5D%2C%20%22y%22:%20%5B8e-9%2C%20%22m%22%5D%2C%20%22z%22:%20%5B8e-9%2C%20%22m%22%5D%7D%7D%7D%2C%20%22tool%22:%20%22annotateLine%22%2C%20%22tab%22:%20%22annotations%22%2C%20%22annotations%22:%20%5B%7B%22pointA%22:%20%5B18008.03515625%2C%203377.9501953125%2C%205949.50048828125%5D%2C%20%22pointB%22:%20%5B15404.9599609375%2C%203217.266357421875%2C%205949.50048828125%5D%2C%20%22type%22:%20%22line%22%2C%20%22id%22:%20%22a7e8747c3eedd56f3f93bbedd4277209f77e0d0d%22%7D%2C%20%7B%22pointA%22:%20%5B18136.58203125%2C%201256.9251708984375%2C%205949.50048828125%5D%2C%20%22pointB%22:%20%5B21928.71875%2C%204824.103515625%2C%205949.50048828125%5D%2C%20%22type%22:%20%22line%22%2C%20%22id%22:%20%222488859ee79cb5b86e9db709c9e8095efa58e18e%22%7D%5D%2C%20%22shader%22:%20%22#uicontrol%20float%20lineWidth%20slider%28min=1%2C%20max=50%2C%20step=1%2C%20default=10%29%5Cn#uicontrol%20vec3%20color%20color%28default=%22white%22%29%5Cn%5Cnvoid%20main%28%29%20%7B%5Cn%20%20setLineWidth%28lineWidth%29%3B%5Cn%20%20setColor%28color%29%3B%5Cn%7D%5Cn%5Cn%22%2C%20%22shaderControls%22:%20%7B%22color%22:%20%22#ff0000%22%7D%2C%20%22name%22:%20%22annotations%22%7D%5D%2C%20%22showSlices%22:%20false%2C%20%22selectedLayer%22:%20%7B%22visible%22:%20true%2C%20%22layer%22:%20%22annotations%22%7D%2C%20%22layout%22:%20%224panel%22%2C%20%22selection%22:%20%7B%22layers%22:%20%7B%22annotations%22:%20%7B%22annotationId%22:%20%222488859ee79cb5b86e9db709c9e8095efa58e18e%22%2C%20%22annotationSource%22:%200%2C%20%22annotationSubsource%22:%20%22default%22%7D%7D%7D%7D'"
      ]
     },
     "execution_count": 55,
     "metadata": {},
     "output_type": "execute_result"
    }
   ],
   "source": [
    "\"http://renderer.int.janelia.org:8080/ng/#!\" + urllib.parse.quote(str(info_dict).replace(\"True\",\"true\").replace(\"e-0\",\"e-\").replace(\"False\",\"false\"),safe=':/=#').replace('%27', '%22')"
   ]
  },
  {
   "cell_type": "code",
   "execution_count": 66,
   "metadata": {},
   "outputs": [
    {
     "data": {
      "text/plain": [
       "'http://renderer.int.janelia.org:8080/ng/#!dimensions=%7B%27x%27%3A+%5B8e-09%2C+%27m%27%5D%2C+%27y%27%3A+%5B8e-09%2C+%27m%27%5D%2C+%27z%27%3A+%5B8e-09%2C+%27m%27%5D%7D&position=%5B16015.5576171875%2C+3120.856201171875%2C+5949.5%5D&crossSectionScale=32.136742444753125&projectionOrientation=%5B0.014749682508409023%2C+-0.9973500370979309%2C+0.05349467322230339%2C+-0.04704951494932175%5D&projectionScale=27097.796901055877&layers=%5B%7B%27type%27%3A+%27image%27%2C+%27source%27%3A+%27n5%3A%2F%2Fhttp%3A%2F%2Frenderer.int.janelia.org%3A8080%2Fn5_sources%2Fstern%2Fjrc_22ak351-leaf-3m.n5%2Fem%2Ffibsem-uint8%27%2C+%27tab%27%3A+%27source%27%2C+%27name%27%3A+%27fibsem-uint8%27%7D%2C+%7B%27type%27%3A+%27annotation%27%2C+%27source%27%3A+%7B%27url%27%3A+%27local%3A%2F%2Fannotations%27%2C+%27transform%27%3A+%7B%27outputDimensions%27%3A+%7B%27x%27%3A+%5B8e-09%2C+%27m%27%5D%2C+%27y%27%3A+%5B8e-09%2C+%27m%27%5D%2C+%27z%27%3A+%5B8e-09%2C+%27m%27%5D%7D%7D%7D%2C+%27tool%27%3A+%27annotateLine%27%2C+%27tab%27%3A+%27annotations%27%2C+%27annotations%27%3A+%5B%7B%27pointA%27%3A+%5B18008.03515625%2C+3377.9501953125%2C+5949.50048828125%5D%2C+%27pointB%27%3A+%5B15404.9599609375%2C+3217.266357421875%2C+5949.50048828125%5D%2C+%27type%27%3A+%27line%27%2C+%27id%27%3A+%27a7e8747c3eedd56f3f93bbedd4277209f77e0d0d%27%7D%2C+%7B%27pointA%27%3A+%5B18136.58203125%2C+1256.9251708984375%2C+5949.50048828125%5D%2C+%27pointB%27%3A+%5B21928.71875%2C+4824.103515625%2C+5949.50048828125%5D%2C+%27type%27%3A+%27line%27%2C+%27id%27%3A+%272488859ee79cb5b86e9db709c9e8095efa58e18e%27%7D%5D%2C+%27shader%27%3A+%27%23uicontrol+float+lineWidth+slider%28min%3D1%2C+max%3D50%2C+step%3D1%2C+default%3D10%29%5Cn%23uicontrol+vec3+color+color%28default%3D%22white%22%29%5Cn%5Cnvoid+main%28%29+%7B%5Cn++setLineWidth%28lineWidth%29%3B%5Cn++setColor%28color%29%3B%5Cn%7D%5Cn%5Cn%27%2C+%27shaderControls%27%3A+%7B%27color%27%3A+%27%23ff0000%27%7D%2C+%27name%27%3A+%27annotations%27%7D%5D&showSlices=False&selectedLayer=%7B%27visible%27%3A+True%2C+%27layer%27%3A+%27annotations%27%7D&layout=4panel&selection=%7B%27layers%27%3A+%7B%27annotations%27%3A+%7B%27annotationId%27%3A+%272488859ee79cb5b86e9db709c9e8095efa58e18e%27%2C+%27annotationSource%27%3A+0%2C+%27annotationSubsource%27%3A+%27default%27%7D%7D%7D'"
      ]
     },
     "execution_count": 66,
     "metadata": {},
     "output_type": "execute_result"
    }
   ],
   "source": [
    "\"http://renderer.int.janelia.org:8080/ng/#!\" + urllib.parse.urlencode(info_dict)"
   ]
  },
  {
   "cell_type": "code",
   "execution_count": 52,
   "metadata": {},
   "outputs": [
    {
     "data": {
      "text/plain": [
       "'%7B%27dimensions%27%3A%20%7B%27x%27%3A%20%5B8e-09%2C%20%27m%27%5D%2C%20%27y%27%3A%20%5B8e-09%2C%20%27m%27%5D%2C%20%27z%27%3A%20%5B8e-09%2C%20%27m%27%5D%7D%2C%20%27position%27%3A%20%5B16015.5576171875%2C%203120.856201171875%2C%205949.5%5D%2C%20%27crossSectionScale%27%3A%2032.136742444753125%2C%20%27projectionOrientation%27%3A%20%5B0.014749682508409023%2C%20-0.9973500370979309%2C%200.05349467322230339%2C%20-0.04704951494932175%5D%2C%20%27projectionScale%27%3A%2027097.796901055877%2C%20%27layers%27%3A%20%5B%7B%27type%27%3A%20%27image%27%2C%20%27source%27%3A%20%27n5%3A//http%3A//renderer.int.janelia.org%3A8080/n5_sources/stern/jrc_22ak351-leaf-3m.n5/em/fibsem-uint8%27%2C%20%27tab%27%3A%20%27source%27%2C%20%27name%27%3A%20%27fibsem-uint8%27%7D%2C%20%7B%27type%27%3A%20%27annotation%27%2C%20%27source%27%3A%20%7B%27url%27%3A%20%27local%3A//annotations%27%2C%20%27transform%27%3A%20%7B%27outputDimensions%27%3A%20%7B%27x%27%3A%20%5B8e-09%2C%20%27m%27%5D%2C%20%27y%27%3A%20%5B8e-09%2C%20%27m%27%5D%2C%20%27z%27%3A%20%5B8e-09%2C%20%27m%27%5D%7D%7D%7D%2C%20%27tool%27%3A%20%27annotateLine%27%2C%20%27tab%27%3A%20%27annotations%27%2C%20%27annotations%27%3A%20%5B%7B%27pointA%27%3A%20%5B18008.03515625%2C%203377.9501953125%2C%205949.50048828125%5D%2C%20%27pointB%27%3A%20%5B15404.9599609375%2C%203217.266357421875%2C%205949.50048828125%5D%2C%20%27type%27%3A%20%27line%27%2C%20%27id%27%3A%20%27a7e8747c3eedd56f3f93bbedd4277209f77e0d0d%27%7D%2C%20%7B%27pointA%27%3A%20%5B18136.58203125%2C%201256.9251708984375%2C%205949.50048828125%5D%2C%20%27pointB%27%3A%20%5B21928.71875%2C%204824.103515625%2C%205949.50048828125%5D%2C%20%27type%27%3A%20%27line%27%2C%20%27id%27%3A%20%272488859ee79cb5b86e9db709c9e8095efa58e18e%27%7D%5D%2C%20%27shader%27%3A%20%27%23uicontrol%20float%20lineWidth%20slider%28min%3D1%2C%20max%3D50%2C%20step%3D1%2C%20default%3D10%29%5Cn%23uicontrol%20vec3%20color%20color%28default%3D%22white%22%29%5Cn%5Cnvoid%20main%28%29%20%7B%5Cn%20%20setLineWidth%28lineWidth%29%3B%5Cn%20%20setColor%28color%29%3B%5Cn%7D%5Cn%5Cn%27%2C%20%27shaderControls%27%3A%20%7B%27color%27%3A%20%27%23ff0000%27%7D%2C%20%27name%27%3A%20%27annotations%27%7D%5D%2C%20%27showSlices%27%3A%20False%2C%20%27selectedLayer%27%3A%20%7B%27visible%27%3A%20True%2C%20%27layer%27%3A%20%27annotations%27%7D%2C%20%27layout%27%3A%20%274panel%27%2C%20%27selection%27%3A%20%7B%27layers%27%3A%20%7B%27annotations%27%3A%20%7B%27annotationId%27%3A%20%272488859ee79cb5b86e9db709c9e8095efa58e18e%27%2C%20%27annotationSource%27%3A%200%2C%20%27annotationSubsource%27%3A%20%27default%27%7D%7D%7D%7D'"
      ]
     },
     "execution_count": 52,
     "metadata": {},
     "output_type": "execute_result"
    }
   ],
   "source": [
    "urllib.parse.quote(str(info_dict).encode(\"utf-8\"))"
   ]
  },
  {
   "cell_type": "code",
   "execution_count": 23,
   "metadata": {},
   "outputs": [
    {
     "data": {
      "text/plain": [
       "'{dimensions: {x: [1e-09, m], y: [1e-09, m], z: [1e-09, m]}, position: [4755.931640625, 8403.4697265625, 9689.1982421875], crossSectionScale: 1.5403705516375183, projectionOrientation: [0.18242821097373962, -0.019356338307261467, 0.9490258693695068, 0.2563107907772064], projectionScale: 19445.187496774262, layers: [{type: li, source: {url: precomputed://https://janelia-cosem.s3.amazonaws.com/jrc_hela-2/neuroglancer/em/fibsem-uint8.precomputed, transform: {outputDimensions: {x: [1e-09, m], y: [1e-09, m], z: [1e-09, m]}, inputDimensions: {x: [4e-09, m], y: [4e-09, m], z: [5.240000000000001e-09, m]}}}, tab: source, opacity: 0.75, blend: additive, shader: #uicontrol invlerp normalized(range=[105.82499999999999, 182.57999999999998], window=[0, 255])\\\\n        #uicontrol int invertColormap slider(min=0, max=1, step=1, default=0)\\\\n        #uicontrol vec3 color color(default=\"white\") \\\\n        float inverter(float val, int invert) {return 0.5 + ((2.0 * (-float(invert) + 0.5)) * (val - 0.5));}\\\\n          void main() {\\\\n          emitRGB(color * inverter(normalized(), invertColormap));\\\\n        }, name: fibsem-uint8}, {type: annotation, source: precomputed://https://cellmap-vm1.int.janelia.org/dm11/ackermand/web, tab: source, annotationColor: #8b8b23, name: web}, {type: annotation, source: {url: local://annotations, transform: {outputDimensions: {x: [1e-09, m], y: [1e-09, m], z: [1e-09, m]}}}, tool: annotateLine, tab: annotations, annotations: [{pointA: [4661.9697265625, 8405.009765625, 9689.1982421875], pointB: [4803.68359375, 8374.203125, 9689.1982421875], type: line, id: d9144c65e3da7c7cc8625830b9aed083987bb50f}, {pointA: [4632.70263671875, 8289.482421875, 9689.1982421875], pointB: [4506.39208984375, 8437.357421875, 9689.1982421875], type: line, id: 00608776f938482edaa1aa56444be7e369496399}, {pointA: [4455.56005859375, 8355.7177734375, 9689.1982421875], pointB: [4905.34814453125, 8414.251953125, 9689.1982421875], type: line, id: 2a52f30065f9955ff399b65e51d78c0efd979120}], name: annotations}], showSlices: False, selectedLayer: {size: 348, visible: True, layer: annotations}, crossSectionBackgroundColor: #000000, layout: 4panel, statistics: {size: 426, visible: True}, selection: {size: 348, layers: {annotations: {annotationId: 2a52f30065f9955ff399b65e51d78c0efd979120, annotationSource: 0, annotationSubsource: default}}}}'"
      ]
     },
     "execution_count": 23,
     "metadata": {},
     "output_type": "execute_result"
    }
   ],
   "source": [
    "http://renderer.int.janelia.org:8080/ng/#!%7B%22dimensions%22:%7B%22x%22:%5B8e-9%2C%22m%22%5D%2C%22y%22:%5B8e-9%2C%22m%22%5D%2C%22z%22:%5B8e-9%2C%22m%22%5D%7D%2C%22position%22:%5B16015.5576171875%2C3120.856201171875%2C5949.5%5D%2C%22crossSectionScale%22:32.136742444753125%2C%22projectionOrientation%22:%5B0.014749682508409023%2C-0.9973500370979309%2C0.05349467322230339%2C-0.04704951494932175%5D%2C%22projectionScale%22:27097.796901055877%2C%22layers%22:%5B%7B%22type%22:%22image%22%2C%22source%22:%22n5://http://renderer.int.janelia.org:8080/n5_sources/stern/jrc_22ak351-leaf-3m.n5/em/fibsem-uint8%22%2C%22tab%22:%22source%22%2C%22name%22:%22fibsem-uint8%22%7D%2C%7B%22type%22:%22annotation%22%2C%22source%22:%7B%22url%22:%22local://annotations%22%2C%22transform%22:%7B%22outputDimensions%22:%7B%22x%22:%5B8e-9%2C%22m%22%5D%2C%22y%22:%5B8e-9%2C%22m%22%5D%2C%22z%22:%5B8e-9%2C%22m%22%5D%7D%7D%7D%2C%22tool%22:%22annotateLine%22%2C%22tab%22:%22annotations%22%2C%22annotations%22:%5B%7B%22pointA%22:%5B18008.03515625%2C3377.9501953125%2C5949.50048828125%5D%2C%22pointB%22:%5B15404.9599609375%2C3217.266357421875%2C5949.50048828125%5D%2C%22type%22:%22line%22%2C%22id%22:%22a7e8747c3eedd56f3f93bbedd4277209f77e0d0d%22%7D%2C%7B%22pointA%22:%5B18136.58203125%2C1256.9251708984375%2C5949.50048828125%5D%2C%22pointB%22:%5B21928.71875%2C4824.103515625%2C5949.50048828125%5D%2C%22type%22:%22line%22%2C%22id%22:%222488859ee79cb5b86e9db709c9e8095efa58e18e%22%7D%5D%2C%22shader%22:%22#uicontrol%20float%20lineWidth%20slider%28min=1%2C%20max=50%2C%20step=1%2C%20default=10%29%5Cn#uicontrol%20vec3%20color%20color%28default=%5C%22white%5C%22%29%5Cn%5Cnvoid%20main%28%29%20%7B%5Cn%20%20setLineWidth%28lineWidth%29%3B%5Cn%20%20setColor%28color%29%3B%5Cn%7D%5Cn%5Cn%22%2C%22shaderControls%22:%7B%22color%22:%22#ff0000%22%7D%2C%22name%22:%22annotations%22%7D%5D%2C%22showSlices%22:false%2C%22selectedLayer%22:%7B%22visible%22:true%2C%22layer%22:%22annotations%22%7D%2C%22layout%22:%224panel%22%2C%22selection%22:%7B%22layers%22:%7B%22annotations%22:%7B%22annotationId%22:%222488859ee79cb5b86e9db709c9e8095efa58e18e%22%2C%22annotationSource%22:0%2C%22annotationSubsource%22:%22default%22%7D%7D%7D%7D"
   ]
  },
  {
   "cell_type": "code",
   "execution_count": 31,
   "metadata": {},
   "outputs": [
    {
     "data": {
      "text/plain": [
       "'%7B%22dimensions%22:%20%7B%22x%22:%20%5B1e-09%2C%20%22m%22%5D%2C%20%22y%22:%20%5B1e-09%2C%20%22m%22%5D%2C%20%22z%22:%20%5B1e-09%2C%20%22m%22%5D%7D%2C%20%22position%22:%20%5B4755.931640625%2C%208403.4697265625%2C%209689.1982421875%5D%2C%20%22crossSectionScale%22:%201.5403705516375183%2C%20%22projectionOrientation%22:%20%5B0.18242821097373962%2C%20-0.019356338307261467%2C%200.9490258693695068%2C%200.2563107907772064%5D%2C%20%22projectionScale%22:%2019445.187496774262%2C%20%22layers%22:%20%5B%7B%22type%22:%20%22li%22%2C%20%22source%22:%20%7B%22url%22:%20%22precomputed:%2F%2Fhttps:%2F%2Fjanelia-cosem.s3.amazonaws.com%2Fjrc_hela-2%2Fneuroglancer%2Fem%2Ffibsem-uint8.precomputed%22%2C%20%22transform%22:%20%7B%22outputDimensions%22:%20%7B%22x%22:%20%5B1e-09%2C%20%22m%22%5D%2C%20%22y%22:%20%5B1e-09%2C%20%22m%22%5D%2C%20%22z%22:%20%5B1e-09%2C%20%22m%22%5D%7D%2C%20%22inputDimensions%22:%20%7B%22x%22:%20%5B4e-09%2C%20%22m%22%5D%2C%20%22y%22:%20%5B4e-09%2C%20%22m%22%5D%2C%20%22z%22:%20%5B5.240000000000001e-09%2C%20%22m%22%5D%7D%7D%7D%2C%20%22tab%22:%20%22source%22%2C%20%22opacity%22:%200.75%2C%20%22blend%22:%20%22additive%22%2C%20%22shader%22:%20%22%23uicontrol%20invlerp%20normalized%28range%3D%5B105.82499999999999%2C%20182.57999999999998%5D%2C%20window%3D%5B0%2C%20255%5D%29%5Cn%20%20%20%20%20%20%20%20%23uicontrol%20int%20invertColormap%20slider%28min%3D0%2C%20max%3D1%2C%20step%3D1%2C%20default%3D0%29%5Cn%20%20%20%20%20%20%20%20%23uicontrol%20vec3%20color%20color%28default%3D%5C%22white%5C%22%29%20%5Cn%20%20%20%20%20%20%20%20float%20inverter%28float%20val%2C%20int%20invert%29%20%7Breturn%200.5%20%2B%20%28%282.0%20%2A%20%28-float%28invert%29%20%2B%200.5%29%29%20%2A%20%28val%20-%200.5%29%29%3B%7D%5Cn%20%20%20%20%20%20%20%20%20%20void%20main%28%29%20%7B%5Cn%20%20%20%20%20%20%20%20%20%20emitRGB%28color%20%2A%20inverter%28normalized%28%29%2C%20invertColormap%29%29%3B%5Cn%20%20%20%20%20%20%20%20%7D%22%2C%20%22name%22:%20%22fibsem-uint8%22%7D%2C%20%7B%22type%22:%20%22annotation%22%2C%20%22source%22:%20%22precomputed:%2F%2Fhttps:%2F%2Fcellmap-vm1.int.janelia.org%2Fdm11%2Fackermand%2Fweb%22%2C%20%22tab%22:%20%22source%22%2C%20%22annotationColor%22:%20%22%238b8b23%22%2C%20%22name%22:%20%22web%22%7D%2C%20%7B%22type%22:%20%22annotation%22%2C%20%22source%22:%20%7B%22url%22:%20%22local:%2F%2Fannotations%22%2C%20%22transform%22:%20%7B%22outputDimensions%22:%20%7B%22x%22:%20%5B1e-09%2C%20%22m%22%5D%2C%20%22y%22:%20%5B1e-09%2C%20%22m%22%5D%2C%20%22z%22:%20%5B1e-09%2C%20%22m%22%5D%7D%7D%7D%2C%20%22tool%22:%20%22annotateLine%22%2C%20%22tab%22:%20%22annotations%22%2C%20%22annotations%22:%20%5B%7B%22pointA%22:%20%5B4661.9697265625%2C%208405.009765625%2C%209689.1982421875%5D%2C%20%22pointB%22:%20%5B4803.68359375%2C%208374.203125%2C%209689.1982421875%5D%2C%20%22type%22:%20%22line%22%2C%20%22id%22:%20%22d9144c65e3da7c7cc8625830b9aed083987bb50f%22%7D%2C%20%7B%22pointA%22:%20%5B4632.70263671875%2C%208289.482421875%2C%209689.1982421875%5D%2C%20%22pointB%22:%20%5B4506.39208984375%2C%208437.357421875%2C%209689.1982421875%5D%2C%20%22type%22:%20%22line%22%2C%20%22id%22:%20%2200608776f938482edaa1aa56444be7e369496399%22%7D%2C%20%7B%22pointA%22:%20%5B4455.56005859375%2C%208355.7177734375%2C%209689.1982421875%5D%2C%20%22pointB%22:%20%5B4905.34814453125%2C%208414.251953125%2C%209689.1982421875%5D%2C%20%22type%22:%20%22line%22%2C%20%22id%22:%20%222a52f30065f9955ff399b65e51d78c0efd979120%22%7D%5D%2C%20%22name%22:%20%22annotations%22%7D%5D%2C%20%22showSlices%22:%20false%2C%20%22selectedLayer%22:%20%7B%22size%22:%20348%2C%20%22visible%22:%20true%2C%20%22layer%22:%20%22annotations%22%7D%2C%20%22crossSectionBackgroundColor%22:%20%22%23000000%22%2C%20%22layout%22:%20%224panel%22%2C%20%22statistics%22:%20%7B%22size%22:%20426%2C%20%22visible%22:%20true%7D%2C%20%22selection%22:%20%7B%22size%22:%20348%2C%20%22layers%22:%20%7B%22annotations%22:%20%7B%22annotationId%22:%20%222a52f30065f9955ff399b65e51d78c0efd979120%22%2C%20%22annotationSource%22:%200%2C%20%22annotationSubsource%22:%20%22default%22%7D%7D%7D%7D'"
      ]
     },
     "execution_count": 31,
     "metadata": {},
     "output_type": "execute_result"
    }
   ],
   "source": [
    "urllib.parse.quote(json.dumps(info_dict),safe=':')"
   ]
  },
  {
   "cell_type": "code",
   "execution_count": null,
   "metadata": {},
   "outputs": [],
   "source": []
  }
 ],
 "metadata": {
  "kernelspec": {
   "display_name": "convert-tiffs",
   "language": "python",
   "name": "python3"
  },
  "language_info": {
   "codemirror_mode": {
    "name": "ipython",
    "version": 3
   },
   "file_extension": ".py",
   "mimetype": "text/x-python",
   "name": "python",
   "nbconvert_exporter": "python",
   "pygments_lexer": "ipython3",
   "version": "3.9.13"
  },
  "orig_nbformat": 4,
  "vscode": {
   "interpreter": {
    "hash": "932cf0ac0a6ea60a4905ed68b571d61d89192a5c3a2b1264d9dbba2b00cbe173"
   }
  }
 },
 "nbformat": 4,
 "nbformat_minor": 2
}
